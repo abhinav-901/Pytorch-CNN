{
 "cells": [
  {
   "cell_type": "code",
   "execution_count": 1,
   "metadata": {},
   "outputs": [],
   "source": [
    "import numpy as np\n",
    "import pandas as pd\n",
    "import torch\n",
    "import torch.nn as nn\n",
    "import torch.nn.functional as F\n",
    "from torchvision import datasets, transforms\n",
    "from torch.utils.data.sampler import SubsetRandomSampler\n",
    "from torch.utils.data import DataLoader\n",
    "import matplotlib.pyplot as plt\n",
    "import torch.optim as optim\n",
    "%matplotlib inline"
   ]
  },
  {
   "cell_type": "code",
   "execution_count": 2,
   "metadata": {},
   "outputs": [
    {
     "name": "stdout",
     "output_type": "stream",
     "text": [
      "Processing will happen on  GPU\n"
     ]
    }
   ],
   "source": [
    "# Checking if GPU enabled\n",
    "train_on_gpu = torch.cuda.is_available()\n",
    "if train_on_gpu:print(\"Processing will happen on  GPU\")\n",
    "else:print(\"Processing will happen on  CPU\")"
   ]
  },
  {
   "cell_type": "code",
   "execution_count": 3,
   "metadata": {},
   "outputs": [],
   "source": [
    "# Creating Transform Object\n",
    "transform = transforms.Compose([transforms.ToTensor(), transforms.Normalize((0.5, 0.5, 0.5), (0.5, 0.5, 0.5))])"
   ]
  },
  {
   "cell_type": "code",
   "execution_count": 4,
   "metadata": {},
   "outputs": [
    {
     "name": "stdout",
     "output_type": "stream",
     "text": [
      "Files already downloaded and verified\n",
      "Files already downloaded and verified\n"
     ]
    }
   ],
   "source": [
    "# Downloading the Data\n",
    "train_data = datasets.CIFAR10(root='../data/CIFAR10/', train=True, download=True, transform=transform)\n",
    "test_data = datasets.CIFAR10(root='../data/CIFAR10/', train=False, download=True, transform=transform)"
   ]
  },
  {
   "cell_type": "code",
   "execution_count": 5,
   "metadata": {},
   "outputs": [],
   "source": [
    "# Definig Network Related Constants\n",
    "BATCH_SIZE = 20\n",
    "VALIDATION_SIZE =0.20\n",
    "NUM_EPOCHS = 10"
   ]
  },
  {
   "cell_type": "code",
   "execution_count": 6,
   "metadata": {},
   "outputs": [],
   "source": [
    "#splitting data into train & Val set\n",
    "np.random.seed(10)\n",
    "total_sample = len(train_data)\n",
    "indices = list(range(total_sample))\n",
    "np.random.shuffle(indices)\n",
    "val_indices = int(VALIDATION_SIZE * total_sample)\n",
    "train_idx , val_idx = indices[val_indices:], indices[:val_indices]"
   ]
  },
  {
   "cell_type": "code",
   "execution_count": 7,
   "metadata": {},
   "outputs": [],
   "source": [
    "# Initializing samplers\n",
    "train_sampler = SubsetRandomSampler(train_idx)\n",
    "val_sampler = SubsetRandomSampler(val_idx)"
   ]
  },
  {
   "cell_type": "code",
   "execution_count": 8,
   "metadata": {},
   "outputs": [],
   "source": [
    "#loading samples\n",
    "train_set = DataLoader(train_data, sampler=train_sampler, batch_size=BATCH_SIZE)\n",
    "val_set = DataLoader(train_data, sampler=val_sampler, batch_size=BATCH_SIZE)\n",
    "test_set = DataLoader(test_data, batch_size=BATCH_SIZE)"
   ]
  },
  {
   "cell_type": "code",
   "execution_count": 9,
   "metadata": {},
   "outputs": [
    {
     "name": "stdout",
     "output_type": "stream",
     "text": [
      "train_set shape : 2000\n",
      "val_set shape : 500\n",
      "test_set shape : 500\n"
     ]
    }
   ],
   "source": [
    "print(f\"train_set shape : {len(train_set)}\\nval_set shape : {len(val_set)}\\ntest_set shape : {len(test_set)}\")"
   ]
  },
  {
   "cell_type": "code",
   "execution_count": 10,
   "metadata": {},
   "outputs": [
    {
     "data": {
      "text/plain": [
       "<matplotlib.image.AxesImage at 0x7fa0f0383f10>"
      ]
     },
     "execution_count": 10,
     "metadata": {},
     "output_type": "execute_result"
    },
    {
     "data": {
      "image/png": "[encoded data removed]",
      "text/plain": [
       "<Figure size 432x288 with 1 Axes>"
      ]
     },
     "metadata": {
      "needs_background": "light"
     },
     "output_type": "display_data"
    }
   ],
   "source": [
    "#analyze the data\n",
    "images, labels = next(iter(train_set))\n",
    "images = images.numpy()\n",
    "plt.imshow(np.transpose((images[0]/2 + 0.5)))"
   ]
  },
  {
   "cell_type": "code",
   "execution_count": 11,
   "metadata": {},
   "outputs": [
    {
     "name": "stdout",
     "output_type": "stream",
     "text": [
      "Net(\n",
      "  (conv1): Conv2d(3, 16, kernel_size=(3, 3), stride=(1, 1), padding=(1, 1))\n",
      "  (conv2): Conv2d(16, 32, kernel_size=(3, 3), stride=(1, 1), padding=(1, 1))\n",
      "  (conv3): Conv2d(32, 64, kernel_size=(3, 3), stride=(1, 1), padding=(1, 1))\n",
      "  (pool): MaxPool2d(kernel_size=2, stride=2, padding=0, dilation=1, ceil_mode=False)\n",
      "  (fc1): Linear(in_features=1024, out_features=500, bias=True)\n",
      "  (fc2): Linear(in_features=500, out_features=10, bias=True)\n",
      "  (dropout): Dropout(p=0.25, inplace=False)\n",
      ")\n"
     ]
    }
   ],
   "source": [
    "#Definig the network architecture\n",
    "\n",
    "class Net(nn.Module):\n",
    "    def __init__(self):\n",
    "        super(Net, self).__init__()\n",
    "        \n",
    "        #defining convolution layers\n",
    "        self.conv1 = nn.Conv2d(in_channels=3, out_channels=16, kernel_size=3, padding=1)#as we are going with square kernels\n",
    "        self.conv2 = nn.Conv2d(in_channels=16, out_channels=32, kernel_size=3, padding=1)\n",
    "        self.conv3 = nn.Conv2d(in_channels=32, out_channels=64, kernel_size=3, padding=1)\n",
    "        self.pool = nn.MaxPool2d(2, 2)\n",
    "        self.fc1 = nn.Linear(64*4*4, 500)\n",
    "        self.fc2 = nn.Linear(500, 10)\n",
    "        self.dropout = nn.Dropout(0.25)\n",
    "        \n",
    "    def forward(self, x):\n",
    "        x = self.pool(F.relu(self.conv1(x)))\n",
    "        x = self.pool(F.relu(self.conv2(x)))\n",
    "        x = self.pool(F.relu(self.conv3(x)))\n",
    "        x = x.view(-1, 64*4*4)\n",
    "        x = self.dropout(x)\n",
    "        x = F.relu(self.fc1(x))\n",
    "        x = self.dropout(x)\n",
    "        out = self.fc2(x)\n",
    "        return out\n",
    "\n",
    "network  = Net()\n",
    "print(network)"
   ]
  },
  {
   "cell_type": "code",
   "execution_count": 12,
   "metadata": {},
   "outputs": [],
   "source": [
    "#moving operations to cuda\n",
    "if train_on_gpu:\n",
    "    network.cuda()"
   ]
  },
  {
   "cell_type": "code",
   "execution_count": 13,
   "metadata": {},
   "outputs": [],
   "source": [
    "#specify the loss of the system\n",
    "criterian = nn.CrossEntropyLoss()\n",
    "#defining the optimizer\n",
    "optimizer = optim.SGD(params=network.parameters(),lr=0.01)"
   ]
  },
  {
   "cell_type": "code",
   "execution_count": 14,
   "metadata": {
    "scrolled": true
   },
   "outputs": [
    {
     "name": "stdout",
     "output_type": "stream",
     "text": [
      "Epochs : 2\n",
      "training_loss: 0.08634433728694915\n",
      "validation_loss: 0.09620899842977523\n",
      "validation loss decreased from inf to 0.09620899842977523now saving the model\n",
      "Epochs : 3\n",
      "training_loss: 0.06939769218444825\n",
      "validation_loss: 0.07661415812969208\n",
      "validation loss decreased from 0.09620899842977523 to 0.07661415812969208now saving the model\n",
      "Epochs : 4\n",
      "training_loss: 0.06010369188427925\n",
      "validation_loss: 0.06969956650137901\n",
      "validation loss decreased from 0.07661415812969208 to 0.06969956650137901now saving the model\n",
      "Epochs : 5\n",
      "training_loss: 0.055463853368759156\n",
      "validation_loss: 0.06496157277226448\n",
      "validation loss decreased from 0.06969956650137901 to 0.06496157277226448now saving the model\n",
      "Epochs : 6\n",
      "training_loss: 0.051340725234746934\n",
      "validation_loss: 0.05907432153224945\n",
      "validation loss decreased from 0.06496157277226448 to 0.05907432153224945now saving the model\n",
      "Epochs : 7\n",
      "training_loss: 0.04809940950810909\n",
      "validation_loss: 0.05654735181927681\n",
      "validation loss decreased from 0.05907432153224945 to 0.05654735181927681now saving the model\n",
      "Epochs : 8\n",
      "training_loss: 0.045199861315488817\n",
      "validation_loss: 0.05235058399736881\n",
      "validation loss decreased from 0.05654735181927681 to 0.05235058399736881now saving the model\n",
      "Epochs : 9\n",
      "training_loss: 0.04256695321679115\n",
      "validation_loss: 0.050010438933968546\n",
      "validation loss decreased from 0.05235058399736881 to 0.050010438933968546now saving the model\n",
      "Epochs : 10\n",
      "training_loss: 0.04028565581262112\n",
      "validation_loss: 0.047400198471546175\n",
      "validation loss decreased from 0.050010438933968546 to 0.047400198471546175now saving the model\n",
      "Epochs : 11\n",
      "training_loss: 0.0383458198338747\n",
      "validation_loss: 0.04535277800261974\n",
      "validation loss decreased from 0.047400198471546175 to 0.04535277800261974now saving the model\n"
     ]
    }
   ],
   "source": [
    "valid_loss_min = np.Inf\n",
    "for epoch in range(1, NUM_EPOCHS+1):\n",
    "    training_loss = 0\n",
    "    validation_loss = 0\n",
    "    ##################\n",
    "    #TRAINING MODE####\n",
    "    ##################\n",
    "    network.train()#Model layers will know that training is going on\n",
    "    \n",
    "    for images, labels in train_set:\n",
    "        \n",
    "        if train_on_gpu:\n",
    "            images, labels = images.cuda(), labels.cuda()\n",
    "        optimizer.zero_grad()\n",
    "        output = network.forward(images)\n",
    "        loss = criterian(output, labels)\n",
    "        loss.backward()\n",
    "        optimizer.step()\n",
    "        training_loss += loss.item()\n",
    "        \n",
    "    #####################\n",
    "    ##VALIDATION MODE####\n",
    "    #####################\n",
    "    network.eval()\n",
    "    \n",
    "    for images, labels in val_set:\n",
    "        \n",
    "        if train_on_gpu:\n",
    "            images, labels = images.cuda(), labels.cuda()\n",
    "        output = network.forward(images)\n",
    "        loss = criterian(output, labels)\n",
    "        validation_loss += loss.item()\n",
    "        \n",
    "    #calculating average loss\n",
    "    average_train_loss = training_loss / len(train_data)\n",
    "    average_val_loss = validation_loss / val_indices\n",
    "    \n",
    "    print(f\"Epochs : {epoch+1}\\ntraining_loss: {average_train_loss}\\nvalidation_loss: {average_val_loss}\")\n",
    "    \n",
    "    #save model when balidation loss decreases\n",
    "    if average_val_loss <= valid_loss_min:\n",
    "        print(f\"validation loss decreased from {valid_loss_min} to {average_val_loss}now saving the model\")\n",
    "        torch.save(network.state_dict(),'../out/model_cifar10.pt')\n",
    "        valid_loss_min = average_val_loss    "
   ]
  },
  {
   "cell_type": "code",
   "execution_count": 15,
   "metadata": {},
   "outputs": [
    {
     "data": {
      "text/plain": [
       "<All keys matched successfully>"
      ]
     },
     "execution_count": 15,
     "metadata": {},
     "output_type": "execute_result"
    }
   ],
   "source": [
    "#load the model with lowest validation loss\n",
    "network.load_state_dict(torch.load('../out/model_cifar10.pt'))"
   ]
  },
  {
   "cell_type": "code",
   "execution_count": 16,
   "metadata": {},
   "outputs": [
    {
     "name": "stdout",
     "output_type": "stream",
     "text": [
      "average test loss : 0.045437425914406776\n"
     ]
    }
   ],
   "source": [
    "#Testing the model against the test set\n",
    "test_loss = 0\n",
    "class_correct = list(0 for i in range(10))\n",
    "class_total = list(0 for i in range(10))\n",
    "network.eval()\n",
    "for images, labels in test_set:\n",
    "    if train_on_gpu:\n",
    "        images, labels  = images.cuda(), labels.cuda()\n",
    "    output = network.forward(images)\n",
    "    loss = criterian(output, labels)\n",
    "    test_loss += loss.item()\n",
    "    #convert output probabilities to predicted cloud\n",
    "    _, pred = torch.max(output, 1)\n",
    "    #compare with true labels\n",
    "    correct_tensor = pred.eq(labels.data.view_as(pred))\n",
    "    correct = np.squeeze(correct_tensor.cpu().numpy())\n",
    "    for i in range(BATCH_SIZE):\n",
    "        label = labels[i].item()\n",
    "        class_correct[label] += correct[i].item()\n",
    "        class_total[label] +=1\n",
    "#average test loss\n",
    "average_test_loss = test_loss/len(test_data)\n",
    "print(f\"average test loss : {average_test_loss}\")"
   ]
  }
 ],
 "metadata": {
  "kernelspec": {
   "display_name": "Python 3",
   "language": "python",
   "name": "python3"
  },
  "language_info": {
   "codemirror_mode": {
    "name": "ipython",
    "version": 3
   },
   "file_extension": ".py",
   "mimetype": "text/x-python",
   "name": "python",
   "nbconvert_exporter": "python",
   "pygments_lexer": "ipython3",
   "version": "3.7.6"
  }
 },
 "nbformat": 4,
 "nbformat_minor": 4
}
